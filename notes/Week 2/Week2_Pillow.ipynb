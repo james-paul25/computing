{
 "cells": [
  {
   "cell_type": "markdown",
   "id": "db9ca181",
   "metadata": {},
   "source": [
    "# **INTRODUCTION TO PILLOW**\n",
    "<i>Prepared by `Myrtlle Gem L. Orano`</i>"
   ]
  },
  {
   "cell_type": "markdown",
   "id": "6afcba33",
   "metadata": {},
   "source": [
    "## **I. <u>What is Pillow?</u>**"
   ]
  },
  {
   "cell_type": "markdown",
   "id": "78624314",
   "metadata": {},
   "source": [
    "`Pillow` (formerly known as **PIL**) is a powerful library for basic image manipulation tasks such as resizing, cropping, rotating, adjusting contrast/brightness, and applying filters. It is lightweight and easy to use, making it ideal for simple image processing tasks."
   ]
  },
  {
   "cell_type": "markdown",
   "id": "b45a1605",
   "metadata": {},
   "source": [
    "By the end of this tutorial, you’ll understand that:\n",
    "\n",
    "- Python Pillow is used for image manipulation and basic image processing.\n",
    "- Pillow offers reasonable speed for its intended use cases.\n",
    "- PIL is the original library, while Pillow is its actively maintained fork.\n",
    "- You read an image in Python Pillow using Image.open() from the PIL module.\n",
    "- Pillow is used for its ease of use, versatility, and integration with NumPy."
   ]
  },
  {
   "cell_type": "markdown",
   "id": "dd344b83",
   "metadata": {},
   "source": [
    "### ***Installation and Setup***"
   ]
  },
  {
   "cell_type": "markdown",
   "id": "84eedf3b",
   "metadata": {},
   "source": [
    "You’ll need to install the library before you can use it. You can install Pillow using pip within a virtual environment:"
   ]
  },
  {
   "cell_type": "code",
   "execution_count": 2,
   "id": "adcfc2f5",
   "metadata": {
    "vscode": {
     "languageId": "powershell"
    }
   },
   "outputs": [
    {
     "name": "stdout",
     "output_type": "stream",
     "text": [
      "Requirement already satisfied: pillow in c:\\users\\huawei\\appdata\\local\\programs\\python\\python312\\lib\\site-packages (10.2.0)\n",
      "Note: you may need to restart the kernel to use updated packages.\n"
     ]
    },
    {
     "name": "stderr",
     "output_type": "stream",
     "text": [
      "\n",
      "[notice] A new release of pip is available: 24.3.1 -> 25.2\n",
      "[notice] To update, run: python.exe -m pip install --upgrade pip\n"
     ]
    }
   ],
   "source": [
    "# navigate to your PowerShell and type this command-line.\n",
    "\n",
    "%pip install pillow"
   ]
  },
  {
   "cell_type": "markdown",
   "id": "efd1ea06",
   "metadata": {},
   "source": [
    "Once installed successfully, you have to import the Pillow library."
   ]
  },
  {
   "cell_type": "code",
   "execution_count": 3,
   "id": "cecdfe0b",
   "metadata": {},
   "outputs": [],
   "source": [
    "from PIL import Image"
   ]
  },
  {
   "cell_type": "markdown",
   "id": "06cec8e1",
   "metadata": {},
   "source": [
    "## **II. <u>Displaying  an Image</u>**"
   ]
  },
  {
   "cell_type": "markdown",
   "id": "395bbb90",
   "metadata": {},
   "source": [
    "### **1. *Loading an Image***"
   ]
  },
  {
   "cell_type": "markdown",
   "id": "f73517ff",
   "metadata": {},
   "source": [
    "Load images using the built-in **`open()`** funtion of the Image class."
   ]
  },
  {
   "cell_type": "code",
   "execution_count": 4,
   "id": "5307b91a",
   "metadata": {},
   "outputs": [],
   "source": [
    "img = Image.open(\"image.png\")"
   ]
  },
  {
   "cell_type": "markdown",
   "id": "92ee6951",
   "metadata": {},
   "source": [
    "### **2. *Display an Image***"
   ]
  },
  {
   "cell_type": "markdown",
   "id": "d0622c0b",
   "metadata": {},
   "source": [
    "To display an image (i.e., through any software available in your computer), use the **`show()`** funtion. "
   ]
  },
  {
   "cell_type": "code",
   "execution_count": 5,
   "id": "4b0a1857",
   "metadata": {},
   "outputs": [],
   "source": [
    "img.show()"
   ]
  },
  {
   "cell_type": "markdown",
   "id": "dff875a4",
   "metadata": {},
   "source": [
    "### **3. *Generate a Blank Image***"
   ]
  },
  {
   "cell_type": "markdown",
   "id": "ad88cf95",
   "metadata": {},
   "source": [
    "#### **i. <u>White Blank Image</u>**"
   ]
  },
  {
   "cell_type": "markdown",
   "id": "f54aed6c",
   "metadata": {},
   "source": [
    "To generate a blank canvas (image), use the **`new()`** function.\n",
    "\n",
    "Parameters of the new() function:\n",
    "1. `mode` (required): Color mode like \"RGB\", \"RGBA\", \"L\", \"CMYK\", etc.\n",
    "2. `size` (required): Tuple of (width, height) in pixels.\n",
    "3. `color` (optional): Background fill. Can be:\n",
    "    - A <u>string</u> (\"white\", \"black\")\n",
    "    - A <u>tuple</u> ((255, 255, 255) for white in RGB)\n",
    "    - An <u>integer</u> (0 for black in grayscale)\n",
    "    - Or even <u>(0, 0, 0, 0)</u> for full transparency in \"RGBA\""
   ]
  },
  {
   "cell_type": "code",
   "execution_count": 6,
   "id": "5e091ab8",
   "metadata": {},
   "outputs": [],
   "source": [
    "blank_img = Image.new(mode=\"RGB\", size=(400, 300), color=\"salmon\")\n",
    "blank_img.show()"
   ]
  },
  {
   "cell_type": "markdown",
   "id": "c19896b9",
   "metadata": {},
   "source": [
    "**Task**: Create a canvas with a mode of `RGBA`, dimensions of `200 x 300`, and a color of `Purple`."
   ]
  },
  {
   "cell_type": "code",
   "execution_count": 7,
   "id": "43426aba",
   "metadata": {},
   "outputs": [],
   "source": [
    "blank_image = Image.new(mode=\"RGBA\", size=(200,100), color=\"purple\")\n",
    "blank_image.show()"
   ]
  },
  {
   "cell_type": "markdown",
   "id": "0d6ced2b",
   "metadata": {},
   "source": [
    "#### **ii. <u>Transparent Image</u>**"
   ]
  },
  {
   "cell_type": "code",
   "execution_count": 8,
   "id": "da6c2aa1",
   "metadata": {},
   "outputs": [],
   "source": [
    "transparent_img = Image.new(\"RGBA\", (400, 300), (0, 0, 0, 0))\n",
    "transparent_img.show()"
   ]
  },
  {
   "cell_type": "markdown",
   "id": "4584e74e",
   "metadata": {},
   "source": [
    "#### **iii. <u>Blank Image with Custom Background</u>**"
   ]
  },
  {
   "cell_type": "code",
   "execution_count": 9,
   "id": "9d7c5391",
   "metadata": {},
   "outputs": [],
   "source": [
    "custom_img = Image.new(\"RGB\", (400, 300), (128, 0, 128))  # Purple\n",
    "custom_img.show()"
   ]
  },
  {
   "cell_type": "markdown",
   "id": "858cdfe9",
   "metadata": {},
   "source": [
    "### **4. *Get Image Info***"
   ]
  },
  {
   "cell_type": "markdown",
   "id": "9b2388d4",
   "metadata": {},
   "source": [
    "#### **i. <u>Different Image Formats</u>**"
   ]
  },
  {
   "cell_type": "markdown",
   "id": "8a12f811",
   "metadata": {},
   "source": [
    "The **`.format`** method allows the users to identify what type of format the image is saved. "
   ]
  },
  {
   "cell_type": "code",
   "execution_count": 10,
   "id": "168b14ee",
   "metadata": {},
   "outputs": [
    {
     "name": "stdout",
     "output_type": "stream",
     "text": [
      "PNG\n"
     ]
    }
   ],
   "source": [
    "print(img.format)   # JPEG, PNG, etc."
   ]
  },
  {
   "cell_type": "markdown",
   "id": "30aca458",
   "metadata": {},
   "source": [
    "#### **ii. <u>Display Image Sizes</u>**"
   ]
  },
  {
   "cell_type": "markdown",
   "id": "b586e345",
   "metadata": {},
   "source": [
    "The **`.size`** method displays the dimensions of the image. "
   ]
  },
  {
   "cell_type": "code",
   "execution_count": 11,
   "id": "b27a77e9",
   "metadata": {},
   "outputs": [
    {
     "name": "stdout",
     "output_type": "stream",
     "text": [
      "(384, 288)\n"
     ]
    }
   ],
   "source": [
    "print(img.size)     # (width, height)"
   ]
  },
  {
   "cell_type": "markdown",
   "id": "cc478166",
   "metadata": {},
   "source": [
    "#### **iii. <u>Display Image Modes</u>**"
   ]
  },
  {
   "cell_type": "markdown",
   "id": "313d35f0",
   "metadata": {},
   "source": [
    "1. `RGB`: 3x8-bit pixels, true color (red, green, blue).\n",
    "2. `RGBA`: 4x8-bit pixels, true color with transparency.\n",
    "3. `L`: 8-bit pixels, black and white (luminance).\n",
    "4. `P`: 8-bit pixels, mapped to any other mode using a color palette.\n",
    "5. `CMYK`: 4x8-bit pixels, color separation.\n",
    "6. `YCbCr`: 3x8-bit pixels, used in video and digital imaging.\n",
    "\n",
    "These modes allow for various applications in image processing, color manipulation, and conversion between different image formats. "
   ]
  },
  {
   "cell_type": "code",
   "execution_count": 12,
   "id": "eb435f0c",
   "metadata": {},
   "outputs": [
    {
     "name": "stdout",
     "output_type": "stream",
     "text": [
      "RGBA\n"
     ]
    }
   ],
   "source": [
    "print(img.mode)     # RGB, RGBA, L, etc."
   ]
  },
  {
   "cell_type": "markdown",
   "id": "465883f2",
   "metadata": {},
   "source": [
    "## **III. <u>Basic Image Operations</u>**"
   ]
  },
  {
   "cell_type": "markdown",
   "id": "2d0ee6cd",
   "metadata": {},
   "source": [
    "### **1. *Resize***"
   ]
  },
  {
   "cell_type": "markdown",
   "id": "bb5a99cf",
   "metadata": {},
   "source": [
    "An image can be cropped to fit another set of dimension. This is done with the use of the **`resize()`** function."
   ]
  },
  {
   "cell_type": "code",
   "execution_count": 13,
   "id": "120be055",
   "metadata": {},
   "outputs": [],
   "source": [
    "resized = img.resize((200, 300))\n",
    "resized.show()"
   ]
  },
  {
   "cell_type": "markdown",
   "id": "b4b748e6",
   "metadata": {},
   "source": [
    "### **2. *Crop***"
   ]
  },
  {
   "cell_type": "markdown",
   "id": "380cafb7",
   "metadata": {},
   "source": [
    "The **`crop()`** function in Pillow is used to extract a rectangular region from an image — like slicing out a portion of a photo."
   ]
  },
  {
   "cell_type": "code",
   "execution_count": 14,
   "id": "eebae3ae",
   "metadata": {},
   "outputs": [],
   "source": [
    "cropped = img.crop((50, 50, 200, 200))  # (left, upper, right, lower)\n",
    "cropped.show()"
   ]
  },
  {
   "cell_type": "markdown",
   "id": "143f84e4",
   "metadata": {},
   "source": [
    "Another way of cropping an image is by using **`NumPy`**, a powerful technique especially when you're working with raw pixel data or integrating with machine learning workflows."
   ]
  },
  {
   "cell_type": "markdown",
   "id": "11e7b3d2",
   "metadata": {},
   "source": [
    "#### **i. <u>Step 1: Load the image and convert to NumPy</u>**"
   ]
  },
  {
   "cell_type": "code",
   "execution_count": 15,
   "id": "b7fb79fa",
   "metadata": {},
   "outputs": [],
   "source": [
    "import numpy as np\n",
    "\n",
    "# Convert to NumPy array\n",
    "img_array = np.array(img)"
   ]
  },
  {
   "cell_type": "markdown",
   "id": "da0f3612",
   "metadata": {},
   "source": [
    "#### **ii. <u>Step 2: Crop using array slicing</u>**\n",
    "\n",
    "Let’s say you want to crop a region from (top=50, left=100) to (bottom=200, right=300):"
   ]
  },
  {
   "cell_type": "code",
   "execution_count": 16,
   "id": "ed2bbdb9",
   "metadata": {},
   "outputs": [],
   "source": [
    "cropped_array = img_array[50:200, 100:300]"
   ]
  },
  {
   "cell_type": "markdown",
   "id": "3bcbfc72",
   "metadata": {},
   "source": [
    "- Format: array[y1:y2, x1:x2]\n",
    "- If the image has color channels (e.g., RGB), this will preserve them."
   ]
  },
  {
   "cell_type": "markdown",
   "id": "7e9cc771",
   "metadata": {},
   "source": [
    "#### **iii. <u>Convert back to Pillow image (optional)</u>**"
   ]
  },
  {
   "cell_type": "code",
   "execution_count": 17,
   "id": "1abfd0d7",
   "metadata": {},
   "outputs": [],
   "source": [
    "cropped_img = Image.fromarray(cropped_array)\n",
    "cropped_img.show()\n",
    "# img.show()"
   ]
  },
  {
   "cell_type": "markdown",
   "id": "420afe9c",
   "metadata": {},
   "source": [
    "Note:\n",
    "- For grayscale images, the array shape is `(height, width)`\n",
    "- For RGB images, the shape is `(height, width, 3)`\n",
    "- For RGBA images, it's `(height, width, 4)`"
   ]
  },
  {
   "cell_type": "markdown",
   "id": "144951aa",
   "metadata": {},
   "source": [
    "### **3. *Rotate & Flip***"
   ]
  },
  {
   "cell_type": "code",
   "execution_count": 18,
   "id": "8f624638",
   "metadata": {},
   "outputs": [],
   "source": [
    "rotated = img.rotate(90)  # Degrees\n",
    "flipped = img.transpose(Image.FLIP_TOP_BOTTOM)\n",
    "flipped.show()"
   ]
  },
  {
   "cell_type": "markdown",
   "id": "5651a6c9",
   "metadata": {},
   "source": [
    "### **4. *Convert Mode***"
   ]
  },
  {
   "cell_type": "code",
   "execution_count": null,
   "id": "ed1871c9",
   "metadata": {},
   "outputs": [
    {
     "ename": "KeyboardInterrupt",
     "evalue": "",
     "output_type": "error",
     "traceback": [
      "\u001b[1;31m---------------------------------------------------------------------------\u001b[0m",
      "\u001b[1;31mKeyboardInterrupt\u001b[0m                         Traceback (most recent call last)",
      "Cell \u001b[1;32mIn[19], line 2\u001b[0m\n\u001b[0;32m      1\u001b[0m gray \u001b[38;5;241m=\u001b[39m img\u001b[38;5;241m.\u001b[39mconvert(\u001b[38;5;124m\"\u001b[39m\u001b[38;5;124mL\u001b[39m\u001b[38;5;124m\"\u001b[39m)  \u001b[38;5;66;03m# Convert to grayscale\u001b[39;00m\n\u001b[1;32m----> 2\u001b[0m \u001b[43mgray\u001b[49m\u001b[38;5;241;43m.\u001b[39;49m\u001b[43mshow\u001b[49m\u001b[43m(\u001b[49m\u001b[43m)\u001b[49m\n",
      "File \u001b[1;32mc:\\Users\\Huawei\\AppData\\Local\\Programs\\Python\\Python312\\Lib\\site-packages\\PIL\\Image.py:2494\u001b[0m, in \u001b[0;36mImage.show\u001b[1;34m(self, title)\u001b[0m\n\u001b[0;32m   2474\u001b[0m \u001b[38;5;28;01mdef\u001b[39;00m \u001b[38;5;21mshow\u001b[39m(\u001b[38;5;28mself\u001b[39m, title\u001b[38;5;241m=\u001b[39m\u001b[38;5;28;01mNone\u001b[39;00m):\n\u001b[0;32m   2475\u001b[0m \u001b[38;5;250m    \u001b[39m\u001b[38;5;124;03m\"\"\"\u001b[39;00m\n\u001b[0;32m   2476\u001b[0m \u001b[38;5;124;03m    Displays this image. This method is mainly intended for debugging purposes.\u001b[39;00m\n\u001b[0;32m   2477\u001b[0m \n\u001b[1;32m   (...)\u001b[0m\n\u001b[0;32m   2491\u001b[0m \u001b[38;5;124;03m    :param title: Optional title to use for the image window, where possible.\u001b[39;00m\n\u001b[0;32m   2492\u001b[0m \u001b[38;5;124;03m    \"\"\"\u001b[39;00m\n\u001b[1;32m-> 2494\u001b[0m     \u001b[43m_show\u001b[49m\u001b[43m(\u001b[49m\u001b[38;5;28;43mself\u001b[39;49m\u001b[43m,\u001b[49m\u001b[43m \u001b[49m\u001b[43mtitle\u001b[49m\u001b[38;5;241;43m=\u001b[39;49m\u001b[43mtitle\u001b[49m\u001b[43m)\u001b[49m\n",
      "File \u001b[1;32mc:\\Users\\Huawei\\AppData\\Local\\Programs\\Python\\Python312\\Lib\\site-packages\\PIL\\Image.py:3539\u001b[0m, in \u001b[0;36m_show\u001b[1;34m(image, **options)\u001b[0m\n\u001b[0;32m   3536\u001b[0m \u001b[38;5;28;01mdef\u001b[39;00m \u001b[38;5;21m_show\u001b[39m(image, \u001b[38;5;241m*\u001b[39m\u001b[38;5;241m*\u001b[39moptions):\n\u001b[0;32m   3537\u001b[0m     \u001b[38;5;28;01mfrom\u001b[39;00m \u001b[38;5;21;01m.\u001b[39;00m \u001b[38;5;28;01mimport\u001b[39;00m ImageShow\n\u001b[1;32m-> 3539\u001b[0m     \u001b[43mImageShow\u001b[49m\u001b[38;5;241;43m.\u001b[39;49m\u001b[43mshow\u001b[49m\u001b[43m(\u001b[49m\u001b[43mimage\u001b[49m\u001b[43m,\u001b[49m\u001b[43m \u001b[49m\u001b[38;5;241;43m*\u001b[39;49m\u001b[38;5;241;43m*\u001b[39;49m\u001b[43moptions\u001b[49m\u001b[43m)\u001b[49m\n",
      "File \u001b[1;32mc:\\Users\\Huawei\\AppData\\Local\\Programs\\Python\\Python312\\Lib\\site-packages\\PIL\\ImageShow.py:62\u001b[0m, in \u001b[0;36mshow\u001b[1;34m(image, title, **options)\u001b[0m\n\u001b[0;32m     53\u001b[0m \u001b[38;5;250m\u001b[39m\u001b[38;5;124mr\u001b[39m\u001b[38;5;124;03m\"\"\"\u001b[39;00m\n\u001b[0;32m     54\u001b[0m \u001b[38;5;124;03mDisplay a given image.\u001b[39;00m\n\u001b[0;32m     55\u001b[0m \n\u001b[1;32m   (...)\u001b[0m\n\u001b[0;32m     59\u001b[0m \u001b[38;5;124;03m:returns: ``True`` if a suitable viewer was found, ``False`` otherwise.\u001b[39;00m\n\u001b[0;32m     60\u001b[0m \u001b[38;5;124;03m\"\"\"\u001b[39;00m\n\u001b[0;32m     61\u001b[0m \u001b[38;5;28;01mfor\u001b[39;00m viewer \u001b[38;5;129;01min\u001b[39;00m _viewers:\n\u001b[1;32m---> 62\u001b[0m     \u001b[38;5;28;01mif\u001b[39;00m \u001b[43mviewer\u001b[49m\u001b[38;5;241;43m.\u001b[39;49m\u001b[43mshow\u001b[49m\u001b[43m(\u001b[49m\u001b[43mimage\u001b[49m\u001b[43m,\u001b[49m\u001b[43m \u001b[49m\u001b[43mtitle\u001b[49m\u001b[38;5;241;43m=\u001b[39;49m\u001b[43mtitle\u001b[49m\u001b[43m,\u001b[49m\u001b[43m \u001b[49m\u001b[38;5;241;43m*\u001b[39;49m\u001b[38;5;241;43m*\u001b[39;49m\u001b[43moptions\u001b[49m\u001b[43m)\u001b[49m:\n\u001b[0;32m     63\u001b[0m         \u001b[38;5;28;01mreturn\u001b[39;00m \u001b[38;5;28;01mTrue\u001b[39;00m\n\u001b[0;32m     64\u001b[0m \u001b[38;5;28;01mreturn\u001b[39;00m \u001b[38;5;28;01mFalse\u001b[39;00m\n",
      "File \u001b[1;32mc:\\Users\\Huawei\\AppData\\Local\\Programs\\Python\\Python312\\Lib\\site-packages\\PIL\\ImageShow.py:86\u001b[0m, in \u001b[0;36mViewer.show\u001b[1;34m(self, image, **options)\u001b[0m\n\u001b[0;32m     83\u001b[0m     \u001b[38;5;28;01mif\u001b[39;00m image\u001b[38;5;241m.\u001b[39mmode \u001b[38;5;241m!=\u001b[39m base:\n\u001b[0;32m     84\u001b[0m         image \u001b[38;5;241m=\u001b[39m image\u001b[38;5;241m.\u001b[39mconvert(base)\n\u001b[1;32m---> 86\u001b[0m \u001b[38;5;28;01mreturn\u001b[39;00m \u001b[38;5;28;43mself\u001b[39;49m\u001b[38;5;241;43m.\u001b[39;49m\u001b[43mshow_image\u001b[49m\u001b[43m(\u001b[49m\u001b[43mimage\u001b[49m\u001b[43m,\u001b[49m\u001b[43m \u001b[49m\u001b[38;5;241;43m*\u001b[39;49m\u001b[38;5;241;43m*\u001b[39;49m\u001b[43moptions\u001b[49m\u001b[43m)\u001b[49m\n",
      "File \u001b[1;32mc:\\Users\\Huawei\\AppData\\Local\\Programs\\Python\\Python312\\Lib\\site-packages\\PIL\\ImageShow.py:113\u001b[0m, in \u001b[0;36mViewer.show_image\u001b[1;34m(self, image, **options)\u001b[0m\n\u001b[0;32m    111\u001b[0m \u001b[38;5;28;01mdef\u001b[39;00m \u001b[38;5;21mshow_image\u001b[39m(\u001b[38;5;28mself\u001b[39m, image, \u001b[38;5;241m*\u001b[39m\u001b[38;5;241m*\u001b[39moptions):\n\u001b[0;32m    112\u001b[0m \u001b[38;5;250m    \u001b[39m\u001b[38;5;124;03m\"\"\"Display the given image.\"\"\"\u001b[39;00m\n\u001b[1;32m--> 113\u001b[0m     \u001b[38;5;28;01mreturn\u001b[39;00m \u001b[38;5;28;43mself\u001b[39;49m\u001b[38;5;241;43m.\u001b[39;49m\u001b[43mshow_file\u001b[49m\u001b[43m(\u001b[49m\u001b[38;5;28;43mself\u001b[39;49m\u001b[38;5;241;43m.\u001b[39;49m\u001b[43msave_image\u001b[49m\u001b[43m(\u001b[49m\u001b[43mimage\u001b[49m\u001b[43m)\u001b[49m\u001b[43m,\u001b[49m\u001b[43m \u001b[49m\u001b[38;5;241;43m*\u001b[39;49m\u001b[38;5;241;43m*\u001b[39;49m\u001b[43moptions\u001b[49m\u001b[43m)\u001b[49m\n",
      "File \u001b[1;32mc:\\Users\\Huawei\\AppData\\Local\\Programs\\Python\\Python312\\Lib\\site-packages\\PIL\\ImageShow.py:119\u001b[0m, in \u001b[0;36mViewer.show_file\u001b[1;34m(self, path, **options)\u001b[0m\n\u001b[0;32m    115\u001b[0m \u001b[38;5;28;01mdef\u001b[39;00m \u001b[38;5;21mshow_file\u001b[39m(\u001b[38;5;28mself\u001b[39m, path, \u001b[38;5;241m*\u001b[39m\u001b[38;5;241m*\u001b[39moptions):\n\u001b[0;32m    116\u001b[0m \u001b[38;5;250m    \u001b[39m\u001b[38;5;124;03m\"\"\"\u001b[39;00m\n\u001b[0;32m    117\u001b[0m \u001b[38;5;124;03m    Display given file.\u001b[39;00m\n\u001b[0;32m    118\u001b[0m \u001b[38;5;124;03m    \"\"\"\u001b[39;00m\n\u001b[1;32m--> 119\u001b[0m     \u001b[43mos\u001b[49m\u001b[38;5;241;43m.\u001b[39;49m\u001b[43msystem\u001b[49m\u001b[43m(\u001b[49m\u001b[38;5;28;43mself\u001b[39;49m\u001b[38;5;241;43m.\u001b[39;49m\u001b[43mget_command\u001b[49m\u001b[43m(\u001b[49m\u001b[43mpath\u001b[49m\u001b[43m,\u001b[49m\u001b[43m \u001b[49m\u001b[38;5;241;43m*\u001b[39;49m\u001b[38;5;241;43m*\u001b[39;49m\u001b[43moptions\u001b[49m\u001b[43m)\u001b[49m\u001b[43m)\u001b[49m  \u001b[38;5;66;03m# nosec\u001b[39;00m\n\u001b[0;32m    120\u001b[0m     \u001b[38;5;28;01mreturn\u001b[39;00m \u001b[38;5;241m1\u001b[39m\n",
      "\u001b[1;31mKeyboardInterrupt\u001b[0m: "
     ]
    }
   ],
   "source": [
    "gray = img.convert(\"L\")  # Convert to grayscale\n",
    "gray.show()"
   ]
  },
  {
   "cell_type": "markdown",
   "id": "fa215c30",
   "metadata": {},
   "source": [
    "## **IV. <u>Drawing on Images</u>**"
   ]
  },
  {
   "cell_type": "markdown",
   "id": "9e3168bc",
   "metadata": {},
   "source": [
    "### ***Step 1: Set Up Your Canvas***"
   ]
  },
  {
   "cell_type": "code",
   "execution_count": 20,
   "id": "24c23374",
   "metadata": {},
   "outputs": [],
   "source": [
    "from PIL import Image, ImageDraw\n",
    "\n",
    "# Create a blank white image\n",
    "img = Image.new(\"RGB\", (400, 300), \"white\")\n",
    "\n",
    "# Create a drawing object\n",
    "draw = ImageDraw.Draw(img)"
   ]
  },
  {
   "cell_type": "markdown",
   "id": "4b225491",
   "metadata": {},
   "source": [
    "### ***Step 2: Draw Basic Shapes***"
   ]
  },
  {
   "cell_type": "markdown",
   "id": "0206bb30",
   "metadata": {},
   "source": [
    "#### **<u>Rectangle</u>**"
   ]
  },
  {
   "cell_type": "code",
   "execution_count": 22,
   "id": "f46d613e",
   "metadata": {},
   "outputs": [],
   "source": [
    "draw.rectangle([(50, 50), (150, 150)], outline=\"blue\", fill=\"lightblue\", width=3)"
   ]
  },
  {
   "cell_type": "markdown",
   "id": "bfb5bc0e",
   "metadata": {},
   "source": [
    "- [(x0, y0), (x1, y1)]: Top-left and bottom-right corners\n",
    "- outline: Border color\n",
    "- fill: Fill color\n",
    "- width: Border thickness"
   ]
  },
  {
   "cell_type": "markdown",
   "id": "f2172b1c",
   "metadata": {},
   "source": [
    "#### **<u>Ellipse / Circle</u>**"
   ]
  },
  {
   "cell_type": "code",
   "execution_count": null,
   "id": "ca4bfb9d",
   "metadata": {},
   "outputs": [],
   "source": [
    "draw.ellipse([(200, 50), (300, 150)], outline=\"green\", fill=\"lightgreen\", width=2)"
   ]
  },
  {
   "cell_type": "markdown",
   "id": "10296374",
   "metadata": {},
   "source": [
    "#### **<u>Triangle</u>**"
   ]
  },
  {
   "cell_type": "code",
   "execution_count": 23,
   "id": "22d36c2f",
   "metadata": {},
   "outputs": [],
   "source": [
    "draw.polygon([(100, 200), (150, 250), (50, 250), (200, 200)], outline=\"red\", fill=\"pink\")"
   ]
  },
  {
   "cell_type": "markdown",
   "id": "8262d4b9",
   "metadata": {},
   "source": [
    "#### **<u>Line</u>**"
   ]
  },
  {
   "cell_type": "code",
   "execution_count": 24,
   "id": "66c74f5e",
   "metadata": {},
   "outputs": [],
   "source": [
    "draw.line([(50, 280), (350, 280)], fill=\"black\", width=4)"
   ]
  },
  {
   "cell_type": "markdown",
   "id": "9d234d53",
   "metadata": {},
   "source": [
    "#### **<u>Arc</u>**"
   ]
  },
  {
   "cell_type": "code",
   "execution_count": 25,
   "id": "e6bd5d10",
   "metadata": {},
   "outputs": [],
   "source": [
    "draw.arc([(200, 200), (300, 250)], start=0, end=120, fill=\"purple\", width=3)"
   ]
  },
  {
   "cell_type": "markdown",
   "id": "8871b82a",
   "metadata": {},
   "source": [
    "### ***Step 3: Add Text (Optional)***"
   ]
  },
  {
   "cell_type": "code",
   "execution_count": 26,
   "id": "7790327a",
   "metadata": {},
   "outputs": [],
   "source": [
    "draw.text((10, 10), \"Shapes Demo\", fill=\"black\")\n",
    "\n",
    "# Changes to you img variable will be saved\n",
    "img.show()"
   ]
  },
  {
   "cell_type": "markdown",
   "id": "0367c2ab",
   "metadata": {},
   "source": [
    "## **V. <u>Image Filters and Enhancements</u>**"
   ]
  },
  {
   "cell_type": "markdown",
   "id": "024404de",
   "metadata": {},
   "source": [
    "### **1. *Apply Blur Filters***"
   ]
  },
  {
   "cell_type": "code",
   "execution_count": 30,
   "id": "6390c0ea",
   "metadata": {},
   "outputs": [],
   "source": [
    "from PIL import ImageFilter\n",
    "\n",
    "img = Image.open(\"image1.jpg\")\n",
    "\n",
    "blurred = img.filter(ImageFilter.BLUR)\n",
    "blurred.show()"
   ]
  },
  {
   "cell_type": "markdown",
   "id": "5402aa92",
   "metadata": {},
   "source": [
    "### **2. *Apply Sharpen Filters***"
   ]
  },
  {
   "cell_type": "code",
   "execution_count": 31,
   "id": "c8fb4a12",
   "metadata": {},
   "outputs": [],
   "source": [
    "sharpened = img.filter(ImageFilter.SHARPEN)\n",
    "sharpened.show()"
   ]
  },
  {
   "cell_type": "markdown",
   "id": "617a45d6",
   "metadata": {},
   "source": [
    "### **3. *Enhance Brightness***"
   ]
  },
  {
   "cell_type": "code",
   "execution_count": 34,
   "id": "1551e814",
   "metadata": {},
   "outputs": [],
   "source": [
    "from PIL import ImageEnhance\n",
    "\n",
    "enhancer = ImageEnhance.Brightness(img)"
   ]
  },
  {
   "cell_type": "markdown",
   "id": "0c687660",
   "metadata": {},
   "source": [
    "### **4. *Enhance Contrast***"
   ]
  },
  {
   "cell_type": "code",
   "execution_count": 35,
   "id": "a91729fd",
   "metadata": {},
   "outputs": [],
   "source": [
    "bright_img = enhancer.enhance(1.5)  # 1.0 = original"
   ]
  },
  {
   "cell_type": "markdown",
   "id": "9de8b597",
   "metadata": {},
   "source": [
    "## **VI. <u>Saving Images</u>**"
   ]
  },
  {
   "cell_type": "markdown",
   "id": "87960699",
   "metadata": {},
   "source": [
    "### **1. *Save an Image***"
   ]
  },
  {
   "cell_type": "code",
   "execution_count": 37,
   "id": "1396c0e2",
   "metadata": {},
   "outputs": [],
   "source": [
    "img.save(\"new_image.png\")\n",
    "img = Image.open(\"new_image.png\")\n",
    "img.show()"
   ]
  },
  {
   "cell_type": "markdown",
   "id": "8df847ef",
   "metadata": {},
   "source": [
    "### **2. *Changing Format***"
   ]
  },
  {
   "cell_type": "code",
   "execution_count": 39,
   "id": "1cbea953",
   "metadata": {},
   "outputs": [],
   "source": [
    "img.save(\"converted_image.pdf\", format=\"PDF\")"
   ]
  }
 ],
 "metadata": {
  "kernelspec": {
   "display_name": "Python 3",
   "language": "python",
   "name": "python3"
  },
  "language_info": {
   "codemirror_mode": {
    "name": "ipython",
    "version": 3
   },
   "file_extension": ".py",
   "mimetype": "text/x-python",
   "name": "python",
   "nbconvert_exporter": "python",
   "pygments_lexer": "ipython3",
   "version": "3.12.0"
  }
 },
 "nbformat": 4,
 "nbformat_minor": 5
}
