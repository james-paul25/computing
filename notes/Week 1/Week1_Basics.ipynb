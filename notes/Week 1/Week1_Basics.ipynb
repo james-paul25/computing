{
 "cells": [
  {
   "cell_type": "markdown",
   "id": "ad81c5cf",
   "metadata": {},
   "source": [
    "# **PYTHON FUNDAMENTALS**\n",
    "<i>Prepared by `Myrtlle Gem L. Orano`</i>"
   ]
  },
  {
   "cell_type": "markdown",
   "id": "710becf8",
   "metadata": {},
   "source": [
    "## **I. <u>Introduction to Python</u>**"
   ]
  },
  {
   "cell_type": "markdown",
   "id": "062cf506",
   "metadata": {},
   "source": [
    "`Computer programming` is the act of composing the selected programming language's elements in the order that will cause the desired effect. The effect could be different in every specific case – it's up to the programmer's imagination, knowledge and experience.\n",
    "\n",
    "Of course, such a composition has to be correct in many senses:\n",
    "- `alphabetically` - a program needs to be written in a recognizable script, such as Roman, Cyrillic, etc.\n",
    "- `lexically` - each programming language has its dictionary and you need to master it; thankfully, it's much simpler and smaller than the dictionary of any natural language;\n",
    "- `syntactically` - each language has its rules and they must be obeyed;\n",
    "- `semantically` - the program has to make sense."
   ]
  },
  {
   "cell_type": "markdown",
   "id": "8dd0dbaf",
   "metadata": {},
   "source": [
    "`Compilation` is a process where a source program is translated into a machine code file, which can be distributed worldwide, and must be repeated each time modifications are made.\n",
    "\n",
    "`Interpretation` involves translating the source program each time it's executed, a process called 'translation'. The interpreter interprets the code, ensuring it's not distributed as-is, as the end-user also needs it."
   ]
  },
  {
   "cell_type": "markdown",
   "id": "1a3028cb",
   "metadata": {},
   "source": [
    "`Python` is a powerful and open-source programming language useful for developing software across multiple operating systems. It is object-oriented and provides a simple, easy-to-read, and user-friendly language, which enhances creativity. "
   ]
  },
  {
   "cell_type": "markdown",
   "id": "13e0ce4f",
   "metadata": {},
   "source": [
    "*<u>Advantages of Python</u>*\n",
    "- this is a high-level programming language. Its syntax are near to human understanding or readable. \n",
    "- this uses an interpreter. \n",
    "- this has dynamic typing. \n",
    "- this follows the principle of OOP. \n",
    "- open source."
   ]
  },
  {
   "cell_type": "code",
   "execution_count": 1,
   "id": "ee065f37",
   "metadata": {},
   "outputs": [
    {
     "name": "stdout",
     "output_type": "stream",
     "text": [
      "<class 'int'>\n",
      "<class 'float'>\n",
      "<class 'str'>\n"
     ]
    }
   ],
   "source": [
    "var1 = 1\n",
    "var2 = -2.4\n",
    "var3 = \"String\"\n",
    "\n",
    "print(type(var1))\n",
    "print(type(var2))\n",
    "print(type(var3))"
   ]
  },
  {
   "cell_type": "markdown",
   "id": "6902f580",
   "metadata": {},
   "source": [
    "## **II. <u>Basic Elements of Python</u>**"
   ]
  },
  {
   "cell_type": "markdown",
   "id": "dd6e7e62",
   "metadata": {},
   "source": [
    "### **1. *Variables***"
   ]
  },
  {
   "cell_type": "markdown",
   "id": "e95abda9",
   "metadata": {},
   "source": [
    "`Variables` -> this is your container for data. Mostly, they hold temporary data, that you may update depending on the flow of you program. \n",
    "\n",
    "Note: \n",
    "- Variable name is essetial, so it should be descriptive.\n",
    "- It may start with lowcaps or a uppercap alphabet character. It could also start with a symbol. \n",
    "- BUT, it should not start with a number.\n",
    "- Variable naming are case sensitive. Apple and apple are not the same. "
   ]
  },
  {
   "cell_type": "code",
   "execution_count": null,
   "id": "45af62c6",
   "metadata": {},
   "outputs": [
    {
     "name": "stdout",
     "output_type": "stream",
     "text": [
      "Var 1 value is  1\n",
      "Its data type is <class 'int'>\n",
      "Var 1 value is  -2.4\n",
      "Its data type is <class 'float'>\n",
      "Var1 is 2 while var1 is 5\n"
     ]
    }
   ],
   "source": [
    "# Example for variables\n",
    "var1 = 1\n",
    "print(\"Var 1 value is \", var1)\n",
    "print(\"Its data type is\", type(var1))\n",
    "\n",
    "var1_2 = -2.4\n",
    "print(\"Var 1 value is \", var1_2)\n",
    "print(\"Its data type is\", type(var1_2))\n",
    "\n",
    "# These variables are not the same\n",
    "Var1 = 2\n",
    "var1 = 5\n",
    "print(\"Var1 is\", Var1, \"while var1 is\", var1)"
   ]
  },
  {
   "cell_type": "markdown",
   "id": "58008efc",
   "metadata": {},
   "source": [
    "### **2. *Data Types***"
   ]
  },
  {
   "cell_type": "markdown",
   "id": "a6db0c43",
   "metadata": {},
   "source": [
    "#### **i. Numeric Data Types**"
   ]
  },
  {
   "cell_type": "markdown",
   "id": "b7126608",
   "metadata": {},
   "source": [
    "1. `int` -> whole numbers, either positive or negative (e.g., 100, 5, -3, 1000). "
   ]
  },
  {
   "cell_type": "code",
   "execution_count": 5,
   "id": "836ba045",
   "metadata": {},
   "outputs": [
    {
     "name": "stdout",
     "output_type": "stream",
     "text": [
      "num1 and num2:  4 -5\n",
      "Type of num1:  <class 'int'>\n",
      "Type of num2:  <class 'int'>\n"
     ]
    }
   ],
   "source": [
    "# Example for int\n",
    "num1 = 4\n",
    "num2 = -5\n",
    "print(\"num1 and num2: \", num1, num2)\n",
    "print(\"Type of num1: \", type(num1))\n",
    "print(\"Type of num2: \", type(num2))"
   ]
  },
  {
   "cell_type": "markdown",
   "id": "dba6202f",
   "metadata": {},
   "source": [
    "2. `float` -> numbers representing decimal numbers (e.g., 3.14, -0.1, 2.0)."
   ]
  },
  {
   "cell_type": "code",
   "execution_count": 6,
   "id": "cb7dfb36",
   "metadata": {},
   "outputs": [
    {
     "name": "stdout",
     "output_type": "stream",
     "text": [
      "num3 and num4:  -4.56 8.42\n",
      "Type of num3:  <class 'float'>\n",
      "Type of num4:  <class 'float'>\n"
     ]
    }
   ],
   "source": [
    "# Example for float\n",
    "num3 = -4.56\n",
    "num4 = 8.42\n",
    "print(\"num3 and num4: \", num3, num4)\n",
    "print(\"Type of num3: \", type(num3))\n",
    "print(\"Type of num4: \", type(num4))"
   ]
  },
  {
   "cell_type": "markdown",
   "id": "3fddcbf3",
   "metadata": {},
   "source": [
    "3. `complex` -> also known as expressions, with combination of numbers and variables (e.g., 3 + 4j)."
   ]
  },
  {
   "cell_type": "code",
   "execution_count": 7,
   "id": "3fd9db7f",
   "metadata": {},
   "outputs": [
    {
     "name": "stdout",
     "output_type": "stream",
     "text": [
      "results:  31.84\n",
      "Type of results:  <class 'float'>\n"
     ]
    }
   ],
   "source": [
    "# Example of complex\n",
    "results = 15 + 2 * num4\n",
    "print(\"results: \", results)\n",
    "print(\"Type of results: \", type(results))"
   ]
  },
  {
   "cell_type": "markdown",
   "id": "0a792a71",
   "metadata": {},
   "source": [
    "#### **ii. Sequence Data Types**"
   ]
  },
  {
   "cell_type": "markdown",
   "id": "95118d6e",
   "metadata": {},
   "source": [
    "1. `str` -> collections of characters. This could be in text or sentences. Strings can be enclosed within single (''), double (\"\"), or triple (\"\"\"\"\"\") quotation marks. Strings are not mutable, meaning, they cannot be updated/changed."
   ]
  },
  {
   "cell_type": "code",
   "execution_count": 8,
   "id": "522b7cc0",
   "metadata": {},
   "outputs": [
    {
     "name": "stdout",
     "output_type": "stream",
     "text": [
      "My dog's name is  Brownie\n",
      "My cat's name is  Miming\n",
      "<class 'str'>\n"
     ]
    }
   ],
   "source": [
    "# Ecample of str\n",
    "myDog = \"Brownie\"\n",
    "myCat = \"Miming\"\n",
    "print(\"My dog's name is \", myDog)\n",
    "print(\"My cat's name is \", myCat)\n",
    "print(type(myCat))"
   ]
  },
  {
   "cell_type": "markdown",
   "id": "e9a2b522",
   "metadata": {},
   "source": [
    "2. `list` -> is a versatile data structure in python. It will allow you to save/store multiple data of different types. This is mutable, meaning it can be changed. "
   ]
  },
  {
   "cell_type": "code",
   "execution_count": 9,
   "id": "d898e7ee",
   "metadata": {},
   "outputs": [
    {
     "name": "stdout",
     "output_type": "stream",
     "text": [
      "My Hobbies:  ['reading', 'walking', 'sleeping']\n",
      "My Favorite Numbers:  [1, 8, 11, 18]\n",
      "Random Examples:  ['A', 'mix of', 1, 3.2, -10, True]\n",
      "<class 'list'>\n"
     ]
    }
   ],
   "source": [
    "# Example of list\n",
    "myHobbies = [\"reading\", \"walking\", \"sleeping\"]\n",
    "favNumbers = [1, 8, 11, 18]\n",
    "mixElements = [\"A\", \"mix of\", 1, 3.2, -10, True]\n",
    "print(\"My Hobbies: \", myHobbies)\n",
    "print(\"My Favorite Numbers: \", favNumbers)\n",
    "print(\"Random Examples: \", mixElements)\n",
    "print(type(mixElements))"
   ]
  },
  {
   "cell_type": "markdown",
   "id": "032d48ef",
   "metadata": {},
   "source": [
    "3. `array` -> this stores only a homogeneous group of data, meaning, they should be of the same datatype. To use this, you have to import the array library, which will provide an array module for you to use. Use the **import** keyword followed by **array** to access this library."
   ]
  },
  {
   "cell_type": "code",
   "execution_count": 10,
   "id": "689ba847",
   "metadata": {},
   "outputs": [
    {
     "name": "stdout",
     "output_type": "stream",
     "text": [
      "My array:  array('i', [1, -2, 3, -4, 5])\n"
     ]
    }
   ],
   "source": [
    "# Example of array\n",
    "import array\n",
    "\n",
    "myArray = array.array(\"i\", [1, -2, 3, -4, 5]) \n",
    "print(\"My array: \", myArray)"
   ]
  },
  {
   "cell_type": "markdown",
   "id": "f9441dcf",
   "metadata": {},
   "source": [
    "4. `tuple` -> fixed collection of elements or immutable sequence of elements (unchangeable); enclosed in () (e.g., (\"Emman\", \"Nanay\", \"Tatay\"), etc)."
   ]
  },
  {
   "cell_type": "code",
   "execution_count": null,
   "id": "7895c151",
   "metadata": {},
   "outputs": [
    {
     "name": "stdout",
     "output_type": "stream",
     "text": [
      "My Hobbies:  ('reading', 'walking', 'sleeping', 1)\n"
     ]
    },
    {
     "ename": "TypeError",
     "evalue": "'tuple' object does not support item assignment",
     "output_type": "error",
     "traceback": [
      "\u001b[1;31m---------------------------------------------------------------------------\u001b[0m",
      "\u001b[1;31mTypeError\u001b[0m                                 Traceback (most recent call last)",
      "Cell \u001b[1;32mIn[12], line 6\u001b[0m\n\u001b[0;32m      3\u001b[0m \u001b[38;5;28mprint\u001b[39m(\u001b[38;5;124m\"\u001b[39m\u001b[38;5;124mMy Hobbies: \u001b[39m\u001b[38;5;124m\"\u001b[39m, myHobbies)\n\u001b[0;32m      5\u001b[0m \u001b[38;5;66;03m# Uncomment at your own risk\u001b[39;00m\n\u001b[1;32m----> 6\u001b[0m \u001b[43mmyHobbies\u001b[49m\u001b[43m[\u001b[49m\u001b[38;5;241;43m1\u001b[39;49m\u001b[43m]\u001b[49m \u001b[38;5;241m=\u001b[39m \u001b[38;5;124m\"\u001b[39m\u001b[38;5;124mSwimming\u001b[39m\u001b[38;5;124m\"\u001b[39m\n\u001b[0;32m      7\u001b[0m \u001b[38;5;28mprint\u001b[39m(\u001b[38;5;124m\"\u001b[39m\u001b[38;5;124mMy Hobbies: \u001b[39m\u001b[38;5;124m\"\u001b[39m, myHobbies[\u001b[38;5;241m1\u001b[39m])\n",
      "\u001b[1;31mTypeError\u001b[0m: 'tuple' object does not support item assignment"
     ]
    }
   ],
   "source": [
    "# Example of list\n",
    "myHobbies = (\"reading\", \"walking\", \"sleeping\", 1)\n",
    "print(\"My Hobbies: \", myHobbies)\n",
    "\n",
    "# Uncomment at your own risk\n",
    "# myHobbies[1] = \"Swimming\"\n",
    "print(\"My Hobbies: \", myHobbies[1])"
   ]
  },
  {
   "cell_type": "markdown",
   "id": "33336b79",
   "metadata": {},
   "source": [
    "5. `set` -> a collection of unique, unordered elements. Sets are defined using curly braces {} or the set() function."
   ]
  },
  {
   "cell_type": "code",
   "execution_count": 19,
   "id": "4c16688a",
   "metadata": {},
   "outputs": [
    {
     "name": "stdout",
     "output_type": "stream",
     "text": [
      "{'apple', 'cherry', 'banana'}\n",
      "{1, 2, 3, 4}\n"
     ]
    }
   ],
   "source": [
    "# Example of a set using curly braces\n",
    "fruits = {\"apple\", \"banana\", \"cherry\", \"apple\"}\n",
    "print(fruits) \n",
    "\n",
    "# Example of a set using the set() function\n",
    "numbers = set([1, 2, 3, 4])\n",
    "print(numbers) "
   ]
  },
  {
   "cell_type": "markdown",
   "id": "65a9227b",
   "metadata": {},
   "source": [
    "#### **iii. Mapping Data Types**"
   ]
  },
  {
   "cell_type": "markdown",
   "id": "dd208a2c",
   "metadata": {},
   "source": [
    "1. `dict` -> dictionaries enclosed in {}, are key-value pair; has a key and the associated value in it (e.g., {\"key\": \"value\"}). "
   ]
  },
  {
   "cell_type": "code",
   "execution_count": 20,
   "id": "d2c5829e",
   "metadata": {},
   "outputs": [
    {
     "name": "stdout",
     "output_type": "stream",
     "text": [
      "Person 1: {'name': 'Alice', 'age': 25}\n",
      "Person1 is  {'name': 'Alice', 'age': 25}\n"
     ]
    }
   ],
   "source": [
    "# Example of dict\n",
    "person = {\"name\" : \"Alice\", \n",
    "          \"age\" : 25}\n",
    "print(f\"Person 1: {person}\")\n",
    "print(\"Person1 is \", person)"
   ]
  },
  {
   "cell_type": "markdown",
   "id": "7fa07b69",
   "metadata": {},
   "source": [
    "#### **iv. Boolean Types**"
   ]
  },
  {
   "cell_type": "markdown",
   "id": "f8abe380",
   "metadata": {},
   "source": [
    "1. `bool` -> boolean values that return true or false."
   ]
  },
  {
   "cell_type": "code",
   "execution_count": 22,
   "id": "a1a6bd12",
   "metadata": {},
   "outputs": [
    {
     "name": "stdout",
     "output_type": "stream",
     "text": [
      "Is it sunny?  True\n",
      "Is is rainy?  False\n",
      "<class 'bool'>\n"
     ]
    }
   ],
   "source": [
    "# Example of bool\n",
    "isSunny = True\n",
    "isRainy = False\n",
    "print(\"Is it sunny? \", isSunny)\n",
    "print(\"Is is rainy? \", isRainy)\n",
    "print(type(isSunny))"
   ]
  },
  {
   "cell_type": "markdown",
   "id": "02be7b6c",
   "metadata": {},
   "source": [
    "### **3. *Input***"
   ]
  },
  {
   "cell_type": "markdown",
   "id": "b51eccd9",
   "metadata": {},
   "source": [
    "`input()` -> a function that reads a line of text entered by the user and always returns it as a string. "
   ]
  },
  {
   "cell_type": "code",
   "execution_count": 24,
   "id": "62db28d3",
   "metadata": {},
   "outputs": [
    {
     "name": "stdout",
     "output_type": "stream",
     "text": [
      "Your name is  Mark\n",
      "<class 'str'>\n",
      "3\n",
      "<class 'str'>\n"
     ]
    }
   ],
   "source": [
    "# Example of input()\n",
    "\n",
    "name = input(\"Enter your name: \")\n",
    "print(\"Your name is \", name)\n",
    "print(type(name))\n",
    "\n",
    "num = input(\"Enter a number: \")\n",
    "print(num)\n",
    "print(type(num))"
   ]
  },
  {
   "cell_type": "markdown",
   "id": "c9191fa8",
   "metadata": {},
   "source": [
    "#### **i. Implicit Type Conversion**\n",
    "Python automatically converts one data type to another when it is safe to do so. For example:"
   ]
  },
  {
   "cell_type": "code",
   "execution_count": 25,
   "id": "ad953cce",
   "metadata": {},
   "outputs": [
    {
     "name": "stdout",
     "output_type": "stream",
     "text": [
      "<class 'int'>\n",
      "2.0\n",
      "<class 'float'>\n"
     ]
    }
   ],
   "source": [
    "num_int = 10\n",
    "print(type(num_int))\n",
    "# num_float = num_int + 2.5\n",
    "# print(type(num_float))\n",
    "result = num_int / 5\n",
    "print(result)\n",
    "print(type(result))"
   ]
  },
  {
   "cell_type": "markdown",
   "id": "53cefa0f",
   "metadata": {},
   "source": [
    "#### **ii. Explicit Type Conversion**\n",
    "Manual conversion of data types using built-in functions like int(), float(), str(), list(), etc. For example:"
   ]
  },
  {
   "cell_type": "code",
   "execution_count": null,
   "id": "3fe8deb5",
   "metadata": {},
   "outputs": [],
   "source": [
    "# Example of int to str\n",
    "num = 123\n",
    "num2 = -1.3\n",
    "num_str = str(num)\n",
    "print(type(num_str)) "
   ]
  },
  {
   "cell_type": "code",
   "execution_count": null,
   "id": "43c7cfae",
   "metadata": {},
   "outputs": [],
   "source": [
    "# Example of str to int\n",
    "num_str = \"456\"\n",
    "num_int = int(num_str)\n",
    "print(type(num_int)) "
   ]
  },
  {
   "cell_type": "code",
   "execution_count": 26,
   "id": "38736d97",
   "metadata": {},
   "outputs": [
    {
     "name": "stdout",
     "output_type": "stream",
     "text": [
      "<class 'tuple'>\n"
     ]
    }
   ],
   "source": [
    "# Example of list to tuple\n",
    "my_list = [1, 2, 3]\n",
    "my_tuple = tuple(my_list)\n",
    "print(type(my_tuple)) "
   ]
  },
  {
   "cell_type": "code",
   "execution_count": 27,
   "id": "f93695eb",
   "metadata": {},
   "outputs": [
    {
     "name": "stdout",
     "output_type": "stream",
     "text": [
      "<class 'float'>\n"
     ]
    }
   ],
   "source": [
    "# Example of str to float\n",
    "num_str = \"3.14\"\n",
    "num_float = float(num_str)\n",
    "print(type(num_float)) "
   ]
  },
  {
   "cell_type": "markdown",
   "id": "d37b2206",
   "metadata": {},
   "source": [
    "### **4. *Output***"
   ]
  },
  {
   "cell_type": "markdown",
   "id": "5a9362b5",
   "metadata": {},
   "source": [
    "`print()` -> a function for displaying output. This function prints objects or text to the standard output (console) and can accept multiple arguments (e.g., **<u>sep</u>** and **<u>end</u>**)."
   ]
  },
  {
   "cell_type": "code",
   "execution_count": 28,
   "id": "be837eee",
   "metadata": {},
   "outputs": [
    {
     "name": "stdout",
     "output_type": "stream",
     "text": [
      "Name: | Honey  | Age: | 25\n",
      "Goodbye, for now ..."
     ]
    }
   ],
   "source": [
    "# Example of printing with separator (sep)\n",
    "print(\"Name:\", \"Honey \", \"Age:\", 25, sep = \" | \")\n",
    "\n",
    "# Example of printing with end character\n",
    "print(\"Goodbye, for now \", end = \"...\")"
   ]
  },
  {
   "cell_type": "markdown",
   "id": "d88f51d1",
   "metadata": {},
   "source": [
    "## **III. <u>Python Operations and Expressions</u>**"
   ]
  },
  {
   "cell_type": "markdown",
   "id": "9c569549",
   "metadata": {},
   "source": [
    "### **1. *Operators***\n",
    "`Operators` are special symbols used to carry out logical and arithmetic operations. "
   ]
  },
  {
   "cell_type": "markdown",
   "id": "4955ee1b",
   "metadata": {},
   "source": [
    "#### **i. Arithmetic Operators**\n",
    "- `Addition` (+): Adds two operands.\n",
    "- `Subtraction` (-): Subtracts the second operand from the first.\n",
    "- `Multiplication` (*): Multiplies two operands.\n",
    "- `Division` (/): Divides the first operand by the second.\n",
    "- `Exponents` (**): \"power\"\n",
    "- `Modulo` (%): It returns the remainder.\n",
    "- `PEMDAS` or `BOMDAS` Example: a + b * (a - b + (a * b) / b)"
   ]
  },
  {
   "cell_type": "code",
   "execution_count": null,
   "id": "c07d71d2",
   "metadata": {},
   "outputs": [],
   "source": [
    "# Addition (+) \n",
    "print(\"Sum: \", 5 + 10)\n",
    "\n",
    "# Subtraction (-)\n",
    "print(\"Difference: \", 5 - 10)\n",
    "\n",
    "#  Multuplication (*)\n",
    "print(\"Product: \", 5 * 10)\n",
    "\n",
    "# Division (/)\n",
    "print(\"Quotient: \", 5 / 10)\n",
    "\n",
    "# Modulus (%)\n",
    "print(\"Remainders: \", 10 % 3)\n",
    "\n",
    "# Exponents (**)\n",
    "print(\"Squared: \", 2**2)"
   ]
  },
  {
   "cell_type": "markdown",
   "id": "50c13e37",
   "metadata": {},
   "source": [
    "#### **ii. Comparison Operators**\n",
    "- `Equal to` (==): Checks if two operands are equal.\n",
    "- `Not equal to` (!=): Checks if two operands are not equal.\n",
    "- `Greater than` (>): Checks if the first operand is greater than the second.\n",
    "- `Less than` (<): Checks if the first operand is less than the second."
   ]
  },
  {
   "cell_type": "code",
   "execution_count": 29,
   "id": "c258549f",
   "metadata": {},
   "outputs": [
    {
     "name": "stdout",
     "output_type": "stream",
     "text": [
      "x and y are equal:  False\n",
      "x and y are not equal:  True\n",
      "x is greater than y:  True\n",
      "x is greater than or equal to y:  True\n",
      "x is less than y:  False\n",
      "x is less than or equal to y:  False\n"
     ]
    }
   ],
   "source": [
    "x = 10\n",
    "y = 5\n",
    "\n",
    "# Equal to (==)\n",
    "\"\"\"\n",
    "one equal sign -> assigning a value\n",
    "two equal signs -> comparing the values of two variables\n",
    "\"\"\"\n",
    "print(\"x and y are equal: \", x == y)\n",
    "\n",
    "# Not Equal to (!=)\n",
    "print(\"x and y are not equal: \", x != y)\n",
    "\n",
    "# Greater than (>)\n",
    "print(\"x is greater than y: \", x > y)\n",
    "\n",
    "# Greater than or Equal to (>=)\n",
    "print(\"x is greater than or equal to y: \", x >= y)\n",
    "\n",
    "# Lesser than (<)s\n",
    "print(\"x is less than y: \", x < y)\n",
    "\n",
    "# Lesser than or Equal to (<=)\n",
    "print(\"x is less than or equal to y: \", x <= y)"
   ]
  },
  {
   "cell_type": "markdown",
   "id": "264b549f",
   "metadata": {},
   "source": [
    "#### **iii. Logical Operators**\n",
    "- `AND` (and): Returns True if both statements are true.\n",
    "- `OR` (or): Returns True if one of the statements is true.\n",
    "- `NOT` (not): Reverses the result, returns False if the result is true."
   ]
  },
  {
   "cell_type": "code",
   "execution_count": 30,
   "id": "d0263337",
   "metadata": {},
   "outputs": [
    {
     "name": "stdout",
     "output_type": "stream",
     "text": [
      "The logic is:  False\n",
      "The logic is:  True\n",
      "The logic is:  False\n"
     ]
    }
   ],
   "source": [
    "x = 10\n",
    "y = 5\n",
    "\n",
    "# AND (and): returns True when all conditions are True, else False\n",
    "print(\"The logic is: \", (x > 5) and (y < 5))\n",
    "\n",
    "# Or (or): returns True for at least one True in the condition\n",
    "print(\"The logic is: \", (x > 5) or (y < 5))\n",
    "\n",
    "# Not (not): invert or the reverse of the value or the condition\n",
    "print(\"The logic is: \", not(x == 10))"
   ]
  },
  {
   "cell_type": "markdown",
   "id": "1915f650",
   "metadata": {},
   "source": [
    "#### **iv. Assignment Operators**"
   ]
  },
  {
   "cell_type": "code",
   "execution_count": 31,
   "id": "544874bb",
   "metadata": {},
   "outputs": [
    {
     "name": "stdout",
     "output_type": "stream",
     "text": [
      "Current value of x:  10\n",
      "New value of x:  15\n",
      "New value of x:  10\n",
      "New value of x:  50\n",
      "New value of x:  10.0\n"
     ]
    }
   ],
   "source": [
    "x = 10\n",
    "print(\"Current value of x: \", x)\n",
    "\n",
    "# Addition Assignment\n",
    "# x = x + 5 -> x += 5\n",
    "x += 5\n",
    "print(\"New value of x: \", x)\n",
    "\n",
    "# Subtraction Assignment\n",
    "# x = x - 5 -> x -= 5\n",
    "x -= 5\n",
    "print(\"New value of x: \", x)\n",
    "\n",
    "# Multiplication Assignment\n",
    "# x = x * 5 -> x *= 5\n",
    "x *= 5\n",
    "print(\"New value of x: \", x)\n",
    "\n",
    "# Division Assignment\n",
    "# x = x / 5 -> x /= 5\n",
    "x /= 5\n",
    "print(\"New value of x: \", x)"
   ]
  },
  {
   "cell_type": "markdown",
   "id": "20818346",
   "metadata": {},
   "source": [
    "### **2. *Operands***\n",
    "`Operands` are the values or variables upon which operators perform their operations. For instance, in the expression a + b, a and b are operands, and + is the \n",
    "operator."
   ]
  },
  {
   "cell_type": "markdown",
   "id": "7c4c7768",
   "metadata": {},
   "source": [
    "### **3. *Expression***\n",
    "`Expression` is a combination of operators and operands that is interpreted to produce a value."
   ]
  },
  {
   "cell_type": "markdown",
   "id": "4f84065c",
   "metadata": {},
   "source": [
    "#### **i. Constant Expressions**\n",
    "`Constant Expressions` – the expressions that have constant values only."
   ]
  },
  {
   "cell_type": "code",
   "execution_count": 32,
   "id": "124807ac",
   "metadata": {},
   "outputs": [
    {
     "name": "stdout",
     "output_type": "stream",
     "text": [
      "5.140000000000001\n"
     ]
    }
   ],
   "source": [
    "x = 3.14 + 2\n",
    "print(x)"
   ]
  },
  {
   "cell_type": "markdown",
   "id": "2c668beb",
   "metadata": {},
   "source": [
    "#### **ii. Arithmetic Expressions**\n",
    "`Arithmetic Expressions` – involve arithmetic operators and produce numerical results."
   ]
  },
  {
   "cell_type": "code",
   "execution_count": 33,
   "id": "732035fe",
   "metadata": {},
   "outputs": [
    {
     "name": "stdout",
     "output_type": "stream",
     "text": [
      "30.0\n"
     ]
    }
   ],
   "source": [
    "x = 5\n",
    "y = 10\n",
    "\n",
    "z = (x + y) * y / x\n",
    "print(z)"
   ]
  },
  {
   "cell_type": "markdown",
   "id": "6aeb8eb7",
   "metadata": {},
   "source": [
    "#### **iii.\tRelational Expressions**\n",
    "`Relational Expressions` – compare values and produce Boolean results (True or False)."
   ]
  },
  {
   "cell_type": "code",
   "execution_count": 34,
   "id": "0f1a524a",
   "metadata": {},
   "outputs": [
    {
     "name": "stdout",
     "output_type": "stream",
     "text": [
      "True\n"
     ]
    }
   ],
   "source": [
    "x = 5\n",
    "y = 10\n",
    "\n",
    "print(x <= y)"
   ]
  },
  {
   "cell_type": "markdown",
   "id": "5afa5746",
   "metadata": {},
   "source": [
    "#### **iv. Logical Expressions**\n",
    "`Logical Expressions` – combine multiple conditions and produce Boolean results."
   ]
  },
  {
   "cell_type": "code",
   "execution_count": 35,
   "id": "308f3b46",
   "metadata": {},
   "outputs": [
    {
     "name": "stdout",
     "output_type": "stream",
     "text": [
      "False\n"
     ]
    }
   ],
   "source": [
    "x = True\n",
    "\n",
    "print(not x)"
   ]
  },
  {
   "cell_type": "markdown",
   "id": "8ebfd845",
   "metadata": {},
   "source": [
    "#### **v. Bitwise Expressions**\n",
    "`Bitwise Expressions` – computations are performed at the bit level."
   ]
  },
  {
   "cell_type": "code",
   "execution_count": 36,
   "id": "a4e8d447",
   "metadata": {},
   "outputs": [
    {
     "name": "stdout",
     "output_type": "stream",
     "text": [
      "48\n"
     ]
    }
   ],
   "source": [
    "a = 12\n",
    "\n",
    "a = a << 2\n",
    "\n",
    "print(a)"
   ]
  },
  {
   "cell_type": "markdown",
   "id": "96600ce0",
   "metadata": {},
   "source": [
    "#### **vi. Compound Expressions**\n",
    "`Compound Expressions` – a combination of multiple types of expressions."
   ]
  },
  {
   "cell_type": "code",
   "execution_count": null,
   "id": "168f5be8",
   "metadata": {},
   "outputs": [],
   "source": [
    "a = 5\n",
    "b = 10\n",
    "c = 2\n",
    "\n",
    "print(a < b and c != (a + b))"
   ]
  },
  {
   "cell_type": "markdown",
   "id": "cc4e7513",
   "metadata": {},
   "source": [
    "## **IV. <u>Types of Python Statements</u>**"
   ]
  },
  {
   "cell_type": "markdown",
   "id": "84d19163",
   "metadata": {},
   "source": [
    "#### **1. *Simple Statements*** \n",
    "`Simple Statements` – composed of a single logical line. They may occur singly or in several statements in one line. "
   ]
  },
  {
   "cell_type": "code",
   "execution_count": null,
   "id": "6c99be95",
   "metadata": {},
   "outputs": [],
   "source": [
    "print(x)"
   ]
  },
  {
   "cell_type": "markdown",
   "id": "549d1a59",
   "metadata": {},
   "source": [
    "#### **2. *Assignment Statements***\n",
    "`Assignment Statements` – used when names are assigned to values, and when you want to modify mutable (can be changed) objects. "
   ]
  },
  {
   "cell_type": "code",
   "execution_count": 71,
   "id": "3424ec3e",
   "metadata": {},
   "outputs": [],
   "source": [
    "myname = \"apple\""
   ]
  },
  {
   "cell_type": "markdown",
   "id": "41450da9",
   "metadata": {},
   "source": [
    "#### **3. *Expression Statements***\n",
    "`Expression Statements` – generally used for computations and for evaluating an expression list. They are also useful in writing values."
   ]
  },
  {
   "cell_type": "code",
   "execution_count": 72,
   "id": "7028ffca",
   "metadata": {
    "vscode": {
     "languageId": "powershell"
    }
   },
   "outputs": [],
   "source": [
    "sum = 3 + 9"
   ]
  },
  {
   "cell_type": "markdown",
   "id": "9d8f0977",
   "metadata": {},
   "source": [
    "#### **4. *import Statements***\n",
    "`import Statements` – used to import files, functions or modules. Python has packages (directories) containing modules (files)."
   ]
  },
  {
   "cell_type": "code",
   "execution_count": 73,
   "id": "58fa753f",
   "metadata": {},
   "outputs": [],
   "source": [
    "import matplotlib"
   ]
  },
  {
   "cell_type": "markdown",
   "id": "ddcc4617",
   "metadata": {},
   "source": [
    "#### **5. *continue Statement***\n",
    "`continue Statement` – indicates that a statement, usually a loop, continues with the next loop."
   ]
  },
  {
   "cell_type": "code",
   "execution_count": null,
   "id": "1aee79e6",
   "metadata": {},
   "outputs": [],
   "source": [
    "a = 1\n",
    "\n",
    "while (True):\n",
    "    if(a == 1):\n",
    "        continue"
   ]
  },
  {
   "cell_type": "markdown",
   "id": "5d685a7b",
   "metadata": {},
   "source": [
    "#### **6. *break Statement***\n",
    "`break Statement` – they ‘break’ the nearest enclosing loop and resume execution on the next statement. But the loop will finally ‘break’ when the ‘try’ statement and the ‘finally’ clause are executed."
   ]
  },
  {
   "cell_type": "code",
   "execution_count": null,
   "id": "87d91d8b",
   "metadata": {},
   "outputs": [],
   "source": [
    "a = 3\n",
    "\n",
    "while (True):\n",
    "    print(\"Hi\")\n",
    "    if (a != 1):\n",
    "        break"
   ]
  },
  {
   "cell_type": "markdown",
   "id": "f1ade4c8",
   "metadata": {},
   "source": [
    "#### **7. *return Statement***\n",
    "`return Statement` – usually used in evaluating an expression list and exiting a function, operation, or method. There are two forms: the ‘return’ and ‘return expressions’. "
   ]
  },
  {
   "cell_type": "code",
   "execution_count": 76,
   "id": "8f57e574",
   "metadata": {},
   "outputs": [],
   "source": [
    "def example():\n",
    "    return \"Happy\""
   ]
  },
  {
   "cell_type": "markdown",
   "id": "2d228c27",
   "metadata": {},
   "source": [
    "## **V. <u>Built-in Functions</u>**\n",
    "\n",
    "`Functions` -> there are two definitions of functions in python.\n",
    "\n",
    "- inbuilt functions (e.g., input() or print()).\n",
    "- defined functions that are created by a programmer. This functions are not within a class. They use the keyword **def** to define the function. "
   ]
  },
  {
   "cell_type": "markdown",
   "id": "d7a21bab",
   "metadata": {},
   "source": [
    "### **1. *Type Conversion Functions***\n",
    "These functions convert data from one type to another.\n",
    "\n",
    "1. `int()` – converts a value to an integer.\n",
    "2. `float()` – converts a value to a floating-point number.\n",
    "3. `str()` – converts a value to a string.\n",
    "4. `bool()` – converts a value to a Boolean."
   ]
  },
  {
   "cell_type": "code",
   "execution_count": null,
   "id": "36c86f8a",
   "metadata": {},
   "outputs": [],
   "source": [
    "# 1. Type Conversion Functions\n",
    "# int()\n",
    "x = \"10\"\n",
    "y = int(x)\n",
    "print(f\"int('10'): {y}, type: {type(y)}\")\n",
    "\n",
    "# float()\n",
    "x = \"10.5\"\n",
    "y = float(x)\n",
    "print(f\"float('10.5'): {y}, type: {type(y)}\")\n",
    "\n",
    "# str()\n",
    "x = 100\n",
    "y = str(x)\n",
    "print(f\"str(100): {y}, type: {type(y)}\")\n",
    "\n",
    "# bool()\n",
    "x = 0\n",
    "y = bool(x)\n",
    "print(f\"bool(0): {y}, type: {type(y)}\")\n",
    "\n",
    "print(\"-\" * 20)"
   ]
  },
  {
   "cell_type": "markdown",
   "id": "47192eca",
   "metadata": {},
   "source": [
    "### **2. *Mathematical Functions***\n",
    "These functions perform various mathematical operations.\n",
    "1. `abs()` – returns the absolute value of a number.\n",
    "2. `round()` – rounds a number to the nearest integer.\n",
    "3. `pow()` – returns the value of a number raised to the power of another.\n"
   ]
  },
  {
   "cell_type": "code",
   "execution_count": null,
   "id": "05fda6a0",
   "metadata": {},
   "outputs": [],
   "source": [
    "# 2. Mathematical Functions\n",
    "# abs()\n",
    "x = -15\n",
    "y = abs(x)\n",
    "print(f\"abs(-15): {y}\")\n",
    "\n",
    "# round()\n",
    "x = 3.7\n",
    "y = round(x)\n",
    "print(f\"round(3.7): {y}\")\n",
    "\n",
    "# pow()\n",
    "x = 2\n",
    "y = 3\n",
    "z = pow(x, y)\n",
    "print(f\"pow(2, 3): {z}\")\n",
    "\n",
    "print(\"-\" * 20)"
   ]
  },
  {
   "cell_type": "markdown",
   "id": "94044e0d",
   "metadata": {},
   "source": [
    "### **3. *String Functions***\n",
    "These functions perform operations on strings.\n",
    "1. `len()` – returns the length of a string.\n",
    "2. `upper()` – converts a string to uppercase.\n",
    "3. `lower()` – converts a string to lowercase."
   ]
  },
  {
   "cell_type": "code",
   "execution_count": null,
   "id": "14f4d91b",
   "metadata": {},
   "outputs": [],
   "source": [
    "# 3. String Functions\n",
    "# len()\n",
    "s = \"Python\"\n",
    "length = len(s)\n",
    "print(f\"len('Python'): {length}\")\n",
    "\n",
    "# upper()\n",
    "s = \"hello\"\n",
    "upper_s = s.upper()\n",
    "print(f\"'hello'.upper(): {upper_s}\")\n",
    "\n",
    "# lower()\n",
    "s = \"WORLD\"\n",
    "lower_s = s.lower()\n",
    "print(f\"'WORLD'.lower(): {lower_s}\")\n",
    "\n",
    "print(\"-\" * 20)"
   ]
  },
  {
   "cell_type": "markdown",
   "id": "429f8d28",
   "metadata": {},
   "source": [
    "### **4. *Utility Functions***\n",
    "These functions perform miscellaneous operations.\n",
    "1. `type()` – returns the type of an object.\n",
    "2. `print()` – prints a value to the console.\n",
    "3. `input()` – reads a value from the console."
   ]
  },
  {
   "cell_type": "code",
   "execution_count": null,
   "id": "445746d8",
   "metadata": {},
   "outputs": [],
   "source": [
    "# 4. Utility Functions\n",
    "# type()\n",
    "x = \"Hello\"\n",
    "t = type(x)\n",
    "print(f\"type('Hello'): {t}\")\n",
    "\n",
    "# print()\n",
    "print(\"This is an example of print()\")\n",
    "\n",
    "# input()\n",
    "# Uncomment the following lines to test input()\n",
    "user_input = input(\"Enter something: \")\n",
    "print(f\"You entered: {user_input}\")\n",
    "\n",
    "print(\"-\" * 20)"
   ]
  },
  {
   "cell_type": "markdown",
   "id": "fee67e9b",
   "metadata": {},
   "source": [
    "### **5. *Sequence Functions***\n",
    "These functions perform operations on sequences like lists, tuples, etc.\n",
    "1. `min()` – returns the smallest item in an iterable.\n",
    "2. `max()` – returns the largest item in an iterable.\n",
    "3. `sum()` – returns the sum of all items in an iterable."
   ]
  },
  {
   "cell_type": "code",
   "execution_count": null,
   "id": "527af833",
   "metadata": {},
   "outputs": [],
   "source": [
    "# 5. Sequence Functions\n",
    "# min()\n",
    "numbers = [10, 2, 5, 8]\n",
    "min_val = min(numbers)\n",
    "print(f\"min([10, 2, 5, 8]): {min_val}\")\n",
    "\n",
    "# max()\n",
    "numbers = [10, 2, 5, 8]\n",
    "max_val = max(numbers)\n",
    "print(f\"max([10, 2, 5, 8]): {max_val}\")\n",
    "\n",
    "# sum()\n",
    "numbers = [10, 2, 5, 8]\n",
    "total_sum = sum(numbers)\n",
    "print(f\"sum([10, 2, 5, 8]): {total_sum}\")"
   ]
  },
  {
   "cell_type": "markdown",
   "id": "179cbbfc",
   "metadata": {},
   "source": [
    "## **VI. <u>Creating My First Function in Python</u>**"
   ]
  },
  {
   "cell_type": "code",
   "execution_count": null,
   "id": "a8f087bb",
   "metadata": {},
   "outputs": [],
   "source": [
    "# Example of a function\n",
    "def printingNames(name):\n",
    "    print(\"Hello, \", name)\n",
    "    \n",
    "printingNames(\"John\")\n",
    "\n",
    "# Example of a recursive function\n",
    "def fibo(n = 1):\n",
    "    if n <= 1:\n",
    "        return n\n",
    "    else:\n",
    "        return fibo(fibo(n-1) + fibo(n-2))\n",
    "\n",
    "print(\"The value for fib or 0 is: \", fibo(3))"
   ]
  },
  {
   "cell_type": "markdown",
   "id": "83ccbb1d",
   "metadata": {},
   "source": [
    "## **VII. <u>Commonly Used Methods in Python</u>**"
   ]
  },
  {
   "cell_type": "markdown",
   "id": "947c4f25",
   "metadata": {},
   "source": [
    "`Methods` -> functions that are associated with objects. They provide a way to manipulate and interact with data stored in objects, such as strings, lists, and dictionaries. "
   ]
  },
  {
   "cell_type": "markdown",
   "id": "5a29a270",
   "metadata": {},
   "source": [
    "### **1. *String Method***\n",
    "1. `upper()` – converts all characters in a string to uppercase.\n",
    "2. `lower()` – converts all characters in a string to lowercase.\n",
    "3. `strip()` – removes leading and trailing whitespace from a string.\n",
    "4. `replace()` – replaces a substring with another substring.\n",
    "5. `split()` – splits a string into a list using a specified delimiter."
   ]
  },
  {
   "cell_type": "code",
   "execution_count": null,
   "id": "af65c407",
   "metadata": {},
   "outputs": [],
   "source": [
    "# upper()\n",
    "text = \"hello world\"\n",
    "upper_text = text.upper()\n",
    "print(f\"Original: '{text}' -> Uppercase: '{upper_text}'\")\n",
    "\n",
    "# lower()\n",
    "text = \"Hello World\"\n",
    "lower_text = text.lower()\n",
    "print(f\"Original: '{text}' -> Lowercase: '{lower_text}'\")\n",
    "\n",
    "# strip()\n",
    "text = \"  hello world  \"\n",
    "stripped_text = text.strip()\n",
    "print(f\"Original: '{text}' -> Stripped: '{stripped_text}'\")\n",
    "\n",
    "# replace()\n",
    "text = \"I like dogs.\"\n",
    "new_text = text.replace(\"dogs\", \"cats\")\n",
    "print(f\"Original: '{text}' -> Replaced: '{new_text}'\")\n",
    "\n",
    "# split()\n",
    "text = \"apple,banana,cherry\"\n",
    "fruits = text.split(',')\n",
    "print(f\"Original: '{text}' -> Split: {fruits}\")"
   ]
  },
  {
   "cell_type": "markdown",
   "id": "47568979",
   "metadata": {},
   "source": [
    "### **2. *List Method***\n",
    "1. `append()` – adds an element to the end of the list.\n",
    "2. `remove()` – removes the first occurrence of a specified element.\n",
    "3. `pop()` – removes and returns the element at the specified index\n",
    "4. `sort()` – sorts the list in ascending order.\n",
    "5. `reverse()` – reverses the order of the list."
   ]
  },
  {
   "cell_type": "code",
   "execution_count": null,
   "id": "2fc6de97",
   "metadata": {},
   "outputs": [],
   "source": [
    "# append()\n",
    "fruits = [\"apple\", \"banana\"]\n",
    "fruits.append(\"cherry\")\n",
    "print(f\"append(): {fruits}\")\n",
    "\n",
    "# remove()\n",
    "fruits = [\"apple\", \"banana\", \"cherry\"]\n",
    "fruits.remove(\"banana\")\n",
    "print(f\"remove(): {fruits}\")\n",
    "\n",
    "# pop()\n",
    "fruits = [\"apple\", \"banana\", \"cherry\"]\n",
    "popped_fruit = fruits.pop(1)\n",
    "print(f\"pop(): {fruits}, Popped item: '{popped_fruit}'\")\n",
    "\n",
    "# sort()\n",
    "numbers = [3, 1, 4, 1, 5, 9]\n",
    "numbers.sort()\n",
    "print(f\"sort(): {numbers}\")\n",
    "\n",
    "# reverse()\n",
    "numbers = [1, 2, 3, 4]\n",
    "numbers.reverse()\n",
    "print(f\"reverse(): {numbers}\")"
   ]
  },
  {
   "cell_type": "markdown",
   "id": "115e32e1",
   "metadata": {},
   "source": [
    "### **3. *Dictionary Methods***\n",
    "1. `keys()` – returns a view object that displays a list of all the keys.\n",
    "2. `values()` – returns a view object that displays a list of all the values.\n",
    "3. `items()` – returns a view object that displays a list of dictionary’s key-value tuple pairs\n",
    "4. `update()` – updates the dictionary with elements from another dictionary or an iterable of key-value pairs.\n",
    "5. `get()` – returns the value for the specified key if key is in dictionary."
   ]
  },
  {
   "cell_type": "code",
   "execution_count": null,
   "id": "012a0f15",
   "metadata": {},
   "outputs": [],
   "source": [
    "# keys()\n",
    "student = {\"name\": \"Alice\", \"age\": 25, \"major\": \"Computer Science\"}\n",
    "all_keys = student.keys()\n",
    "print(f\"keys(): {list(all_keys)}\")\n",
    "\n",
    "# values()\n",
    "all_values = student.values()\n",
    "print(f\"values(): {list(all_values)}\")\n",
    "\n",
    "# items()\n",
    "all_items = student.items()\n",
    "print(f\"items(): {list(all_items)}\")\n",
    "\n",
    "# update()\n",
    "student_updates = {\"age\": 26, \"gpa\": 3.8}\n",
    "student.update(student_updates)\n",
    "print(f\"update(): {student}\")\n",
    "\n",
    "# get()\n",
    "major = student.get(\"major\")\n",
    "print(f\"get('major'): {major}\")\n",
    "gpa = student.get(\"gpa\", \"N/A\")  # Using a default value\n",
    "print(f\"get('gpa') with default: {gpa}\")"
   ]
  },
  {
   "cell_type": "markdown",
   "id": "ff115d87",
   "metadata": {},
   "source": [
    "## **VIII. <u>Creating a Python Class</u>**"
   ]
  },
  {
   "cell_type": "code",
   "execution_count": null,
   "id": "7f384232",
   "metadata": {},
   "outputs": [],
   "source": [
    "# Example of a Class, with methods, object, attributes\n",
    "class Calculator:\n",
    "    def __init__(self, a=1, b=2):\n",
    "        self.a = a\n",
    "        self.b = b\n",
    "\n",
    "    def toAdd(self):\n",
    "        return self.a + self.b\n",
    "\n",
    "# Create an instance with default values\n",
    "cal_default = Calculator()\n",
    "print(\"The sum of the initialized a and b is: \", cal_default.toAdd())  # Output: 3\n",
    "\n",
    "# Create an instance with specified values\n",
    "cal_custom = Calculator(2, 3)\n",
    "print(\"The sum of the set values for a and b is: \", cal_custom.toAdd())  # Output: 5"
   ]
  }
 ],
 "metadata": {
  "kernelspec": {
   "display_name": "Python 3",
   "language": "python",
   "name": "python3"
  },
  "language_info": {
   "codemirror_mode": {
    "name": "ipython",
    "version": 3
   },
   "file_extension": ".py",
   "mimetype": "text/x-python",
   "name": "python",
   "nbconvert_exporter": "python",
   "pygments_lexer": "ipython3",
   "version": "3.12.0"
  }
 },
 "nbformat": 4,
 "nbformat_minor": 5
}
